{
 "cells": [
  {
   "cell_type": "code",
   "execution_count": 5,
   "metadata": {},
   "outputs": [],
   "source": [
    "from fastapi import FastAPI\n",
    "import requests\n",
    "import os\n",
    "\n",
    "app = FastAPI()\n",
    "\n",
    "GROQ_API_KEY = \"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\"  # Ganti dengan API key dari Groq\n",
    "GROQ_URL = \"https://api.groq.com/v1/chat/completions\"  # URL API Groq\n",
    "\n",
    "@app.post(\"/chat\")\n",
    "def chatbot(data: dict):\n",
    "    user_message = data[\"message\"]\n",
    "\n",
    "    # Kirim request ke API Groq\n",
    "    headers = {\"Authorization\": f\"Bearer {GROQ_API_KEY}\", \"Content-Type\": \"application/json\"}\n",
    "    payload = {\n",
    "        \"model\": \"llama3-8b\",\n",
    "        \"messages\": [\n",
    "            {\"role\": \"system\", \"content\": \"Kamu adalah chatbot medis yang membantu mendiagnosis penyakit berdasarkan gejala.\"},\n",
    "            {\"role\": \"user\", \"content\": user_message}\n",
    "        ]\n",
    "    }\n",
    "\n",
    "    response = requests.post(GROQ_URL, json=payload, headers=headers)\n",
    "    result = response.json()\n",
    "\n",
    "    # Ambil jawaban dari model\n",
    "    return {\"response\": result[\"choices\"][0][\"message\"][\"content\"]}\n"
   ]
  }
 ],
 "metadata": {
  "kernelspec": {
   "display_name": "Python 3",
   "language": "python",
   "name": "python3"
  },
  "language_info": {
   "codemirror_mode": {
    "name": "ipython",
    "version": 3
   },
   "file_extension": ".py",
   "mimetype": "text/x-python",
   "name": "python",
   "nbconvert_exporter": "python",
   "pygments_lexer": "ipython3",
   "version": "3.13.0"
  }
 },
 "nbformat": 4,
 "nbformat_minor": 2
}
